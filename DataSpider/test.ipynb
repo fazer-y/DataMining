{
 "cells": [
  {
   "cell_type": "code",
   "execution_count": 7,
   "metadata": {},
   "outputs": [
    {
     "name": "stdout",
     "output_type": "stream",
     "text": [
      "正在爬取第0.0页\n"
     ]
    },
    {
     "ename": "XPathEvalError",
     "evalue": "Invalid expression",
     "output_type": "error",
     "traceback": [
      "\u001b[1;31m---------------------------------------------------------------------------\u001b[0m",
      "\u001b[1;31mXPathEvalError\u001b[0m                            Traceback (most recent call last)",
      "\u001b[1;32md:\\Desktop\\FILES\\DataMining\\DataSpider\\test.ipynb Cell 1\u001b[0m in \u001b[0;36m<cell line: 15>\u001b[1;34m()\u001b[0m\n\u001b[0;32m     <a href='vscode-notebook-cell:/d%3A/Desktop/FILES/DataMining/DataSpider/test.ipynb#W0sZmlsZQ%3D%3D?line=20'>21</a>\u001b[0m searchPageResponse \u001b[39m=\u001b[39m etree\u001b[39m.\u001b[39mHTML((ss\u001b[39m.\u001b[39mget(url))\u001b[39m.\u001b[39mcontent)\n\u001b[0;32m     <a href='vscode-notebook-cell:/d%3A/Desktop/FILES/DataMining/DataSpider/test.ipynb#W0sZmlsZQ%3D%3D?line=21'>22</a>\u001b[0m \u001b[39mprint\u001b[39m(\u001b[39m\"\u001b[39m\u001b[39m正在爬取第\u001b[39m\u001b[39m\"\u001b[39m\u001b[39m+\u001b[39m \u001b[39mstr\u001b[39m(i\u001b[39m/\u001b[39m\u001b[39m10\u001b[39m)\u001b[39m+\u001b[39m \u001b[39m\"\u001b[39m\u001b[39m页\u001b[39m\u001b[39m\"\u001b[39m)\n\u001b[1;32m---> <a href='vscode-notebook-cell:/d%3A/Desktop/FILES/DataMining/DataSpider/test.ipynb#W0sZmlsZQ%3D%3D?line=23'>24</a>\u001b[0m a \u001b[39m=\u001b[39m searchPageResponse\u001b[39m.\u001b[39;49mxpath(\n\u001b[0;32m     <a href='vscode-notebook-cell:/d%3A/Desktop/FILES/DataMining/DataSpider/test.ipynb#W0sZmlsZQ%3D%3D?line=24'>25</a>\u001b[0m     \u001b[39m\"\u001b[39;49m\u001b[39m//[@class=\u001b[39;49m\u001b[39m'\u001b[39;49m\u001b[39msearch_table_detail_col\u001b[39;49m\u001b[39m'\u001b[39;49m\u001b[39m]/h4/a/@href\u001b[39;49m\u001b[39m\"\u001b[39;49m)\n\u001b[0;32m     <a href='vscode-notebook-cell:/d%3A/Desktop/FILES/DataMining/DataSpider/test.ipynb#W0sZmlsZQ%3D%3D?line=25'>26</a>\u001b[0m \u001b[39mprint\u001b[39m(a)\n\u001b[0;32m     <a href='vscode-notebook-cell:/d%3A/Desktop/FILES/DataMining/DataSpider/test.ipynb#W0sZmlsZQ%3D%3D?line=26'>27</a>\u001b[0m \u001b[39mfor\u001b[39;00m i \u001b[39min\u001b[39;00m \u001b[39mrange\u001b[39m(\u001b[39m1\u001b[39m, \u001b[39m11\u001b[39m):\n\u001b[0;32m     <a href='vscode-notebook-cell:/d%3A/Desktop/FILES/DataMining/DataSpider/test.ipynb#W0sZmlsZQ%3D%3D?line=27'>28</a>\u001b[0m     \u001b[39m# detailUrl = searchPageResponse.xpath(\u001b[39;00m\n\u001b[0;32m     <a href='vscode-notebook-cell:/d%3A/Desktop/FILES/DataMining/DataSpider/test.ipynb#W0sZmlsZQ%3D%3D?line=28'>29</a>\u001b[0m     \u001b[39m#     \"/html/body/div[2]/div[1]/div[2]/table/tbody/tr[\"+ str(i) +\"]/td[2]/h4/a\")[0].xpath('@href')[0]\u001b[39;00m\n\u001b[0;32m     <a href='vscode-notebook-cell:/d%3A/Desktop/FILES/DataMining/DataSpider/test.ipynb#W0sZmlsZQ%3D%3D?line=29'>30</a>\u001b[0m     \u001b[39m# detailPageResponse = etree.HTML(ss.get(\"http://search.ndltd.org/\"+detailUrl).content)\u001b[39;00m\n\u001b[0;32m     <a href='vscode-notebook-cell:/d%3A/Desktop/FILES/DataMining/DataSpider/test.ipynb#W0sZmlsZQ%3D%3D?line=30'>31</a>\u001b[0m     \u001b[39m# urls.append(detailPageResponse.xpath(\"/html/body/div[2]/div/div[3]/ol/li/a\")[0].xpath('@href')[0])\u001b[39;00m\n",
      "File \u001b[1;32msrc/lxml/etree.pyx:1599\u001b[0m, in \u001b[0;36mlxml.etree._Element.xpath\u001b[1;34m()\u001b[0m\n",
      "File \u001b[1;32msrc/lxml/xpath.pxi:305\u001b[0m, in \u001b[0;36mlxml.etree.XPathElementEvaluator.__call__\u001b[1;34m()\u001b[0m\n",
      "File \u001b[1;32msrc/lxml/xpath.pxi:225\u001b[0m, in \u001b[0;36mlxml.etree._XPathEvaluatorBase._handle_result\u001b[1;34m()\u001b[0m\n",
      "\u001b[1;31mXPathEvalError\u001b[0m: Invalid expression"
     ]
    }
   ],
   "source": [
    "from nntplib import ArticleInfo\n",
    "import requests\n",
    "from lxml import etree\n",
    "\n",
    "ss = requests.session()\n",
    "front = \"http://search.ndltd.org/\"\n",
    "item1Xpath = \"/html/body/div[2]/div[1]/div[2]/table/tbody/tr[1]/td[2]/h4/a\"\n",
    "item2Xpath = \"/html/body/div[2]/div[1]/div[2]/table/tbody/tr[2]/td[2]/h4/a\"\n",
    "firstPageUrl = \"http://search.ndltd.org/search.php?q=%E5%9C%B0%E7%90%86&source_set_names=National+Digital+Library+of+Theses+and+Dissertations+in+Taiwan&year_start=2000&year_end=2022\"\n",
    "secondPageUrl = \"http://search.ndltd.org/search.php?q=%E5%9C%B0%E7%90%86&source_set_names=National+Digital+Library+of+Theses+and+Dissertations+in+Taiwan&year_start=2000&year_end=2022&start=10\"\n",
    "linkXPath = \"/html/body/div[2]/div/div[3]/ol/li/a\"\n",
    "\n",
    "urls = []\n",
    "\n",
    "for i in range(0, 31, 10):\n",
    "    if(i < 10):\n",
    "        url = \"http://search.ndltd.org/search.php?q=%E5%9C%B0%E7%90%86&source_set_names=National+Digital+Library+of+Theses+and+Dissertations+in+Taiwan&year_start=2000&year_end=2022\"\n",
    "    else:\n",
    "        url = \"http://search.ndltd.org/search.php?q=%E5%9C%B0%E7%90%86&source_set_names=National+Digital+Library+of+Theses+and+Dissertations+in+Taiwan&year_start=2000&year_end=2022&start=\" + str(i)\n",
    "\n",
    "    searchPageResponse = etree.HTML((ss.get(url)).content)\n",
    "    print(\"正在爬取第\"+ str(i/10)+ \"页\")\n",
    "\n",
    "    a = searchPageResponse.xpath(\n",
    "        \"//[@class='search_table_detail_col']/h4/a/@href\")\n",
    "    print(a)\n",
    "    for i in range(1, 11):\n",
    "        # detailUrl = searchPageResponse.xpath(\n",
    "        #     \"/html/body/div[2]/div[1]/div[2]/table/tbody/tr[\"+ str(i) +\"]/td[2]/h4/a\")[0].xpath('@href')[0]\n",
    "        # detailPageResponse = etree.HTML(ss.get(\"http://search.ndltd.org/\"+detailUrl).content)\n",
    "        # urls.append(detailPageResponse.xpath(\"/html/body/div[2]/div/div[3]/ol/li/a\")[0].xpath('@href')[0])\n",
    "        row = searchPageResponse.xpath(\n",
    "                \"/html/body/div[2]/div[1]/div[2]/table/tbody/tr[\" + str(i) + \"]/td[2]/h4/a\")[0]\n",
    "        detailUrl = row.xpath(\"@href\")[0]\n",
    "        title = row.xpath(\"text()\")[0]\n",
    "        print(detailUrl+\" \"+ title)\n",
    "\n",
    "for url1 in urls:\n",
    "    print(url1)"
   ]
  },
  {
   "cell_type": "markdown",
   "metadata": {},
   "source": []
  }
 ],
 "metadata": {
  "kernelspec": {
   "display_name": "Python 3.9.13 ('DataMining')",
   "language": "python",
   "name": "python3"
  },
  "language_info": {
   "codemirror_mode": {
    "name": "ipython",
    "version": 3
   },
   "file_extension": ".py",
   "mimetype": "text/x-python",
   "name": "python",
   "nbconvert_exporter": "python",
   "pygments_lexer": "ipython3",
   "version": "3.9.13"
  },
  "orig_nbformat": 4,
  "vscode": {
   "interpreter": {
    "hash": "b026274d96e1f167ec35c9b136ca5205491932b788e7293fa061f8ae49a043d8"
   }
  }
 },
 "nbformat": 4,
 "nbformat_minor": 2
}
