{
 "cells": [
  {
   "cell_type": "code",
   "execution_count": null,
   "metadata": {},
   "outputs": [
    {
     "ename": "",
     "evalue": "",
     "output_type": "error",
     "traceback": [
      "\u001b[1;31mThe kernel failed to start as a dll could not be loaded.\n",
      "\u001b[1;31mClick <a href='https://aka.ms/kernelFailuresDllLoad'>here</a> for more info."
     ]
    }
   ],
   "source": [
    "from nntplib import ArticleInfo\n",
    "import requests\n",
    "from lxml import etree\n",
    "\n",
    "\n",
    "ss = requests.session()\n",
    "front = \"http://search.ndltd.org/\"\n",
    "item1Xpath = \"/html/body/div[2]/div[1]/div[2]/table/tbody/tr[1]/td[2]/h4/a\"\n",
    "item2Xpath = \"/html/body/div[2]/div[1]/div[2]/table/tbody/tr[2]/td[2]/h4/a\"\n",
    "firstPageUrl = \"http://search.ndltd.org/search.php?q=%E5%9C%B0%E7%90%86&source_set_names=National+Digital+Library+of+Theses+and+Dissertations+in+Taiwan&year_start=2000&year_end=2022\"\n",
    "secondPageUrl = \"http://search.ndltd.org/search.php?q=%E5%9C%B0%E7%90%86&source_set_names=National+Digital+Library+of+Theses+and+Dissertations+in+Taiwan&year_start=2000&year_end=2022&start=10\"\n",
    "linkXPath = \"/html/body/div[2]/div/div[3]/ol/li/a\"\n",
    "\n",
    "urls = []\n",
    "\n",
    "for i in range(0, 31, 10):\n",
    "    if(i < 10):\n",
    "        url = \"http://search.ndltd.org/search.php?q=%E5%9C%B0%E7%90%86&source_set_names=National+Digital+Library+of+Theses+and+Dissertations+in+Taiwan&year_start=2000&year_end=2022\"\n",
    "    else:\n",
    "        url = \"http://search.ndltd.org/search.php?q=%E5%9C%B0%E7%90%86&source_set_names=National+Digital+Library+of+Theses+and+Dissertations+in+Taiwan&year_start=2000&year_end=2022&start=\" + str(i)\n",
    "\n",
    "    searchPageResponse = etree.HTML((ss.get(url)).content)\n",
    "    print(\"正在爬取第\"+ str(i/10)+ \"页\")\n",
    "\n",
    "    a = searchPageResponse.xpath(\n",
    "        \"//[@class='search_table_detail_col']/h4/a/@href\")\n",
    "    print(a)\n",
    "    for i in range(1, 11):\n",
    "        # detailUrl = searchPageResponse.xpath(\n",
    "        #     \"/html/body/div[2]/div[1]/div[2]/table/tbody/tr[\"+ str(i) +\"]/td[2]/h4/a\")[0].xpath('@href')[0]\n",
    "        # detailPageResponse = etree.HTML(ss.get(\"http://search.ndltd.org/\"+detailUrl).content)\n",
    "        # urls.append(detailPageResponse.xpath(\"/html/body/div[2]/div/div[3]/ol/li/a\")[0].xpath('@href')[0])\n",
    "        row = searchPageResponse.xpath(\n",
    "                \"/html/body/div[2]/div[1]/div[2]/table/tbody/tr[\" + str(i) + \"]/td[2]/h4/a\")[0]\n",
    "        detailUrl = row.xpath(\"@href\")[0]\n",
    "        title = row.xpath(\"text()\")[0]\n",
    "        print(detailUrl+\" \"+ title)\n",
    "\n",
    "for url1 in urls:\n",
    "    print(url1)"
   ]
  },
  {
   "cell_type": "code",
   "execution_count": null,
   "metadata": {},
   "outputs": [
    {
     "ename": "",
     "evalue": "",
     "output_type": "error",
     "traceback": [
      "\u001b[1;31mThe kernel failed to start as a dll could not be loaded.\n",
      "\u001b[1;31mClick <a href='https://aka.ms/kernelFailuresDllLoad'>here</a> for more info."
     ]
    }
   ],
   "source": [
    "import requests\n",
    "from lxml import etree\n",
    "\n",
    "url = \"https://hdl.handle.net/11296/d5545f\"\n",
    "response = etree.HTML(requests.request(url).content)\n",
    "a = response.xpath('//*[@id=\"format0_disparea\"]/tbody/tr[8]/td/a/text()').extract()"
   ]
  }
 ],
 "metadata": {
  "kernelspec": {
   "display_name": "Python 3.9.7 ('DataMining')",
   "language": "python",
   "name": "python3"
  },
  "language_info": {
   "codemirror_mode": {
    "name": "ipython",
    "version": 3
   },
   "file_extension": ".py",
   "mimetype": "text/x-python",
   "name": "python",
   "nbconvert_exporter": "python",
   "pygments_lexer": "ipython3",
   "version": "3.9.7"
  },
  "orig_nbformat": 4,
  "vscode": {
   "interpreter": {
    "hash": "e9db40d8573d03fa5909dda491ce4ac93234d7e024ccef23801128c564090f00"
   }
  }
 },
 "nbformat": 4,
 "nbformat_minor": 2
}
