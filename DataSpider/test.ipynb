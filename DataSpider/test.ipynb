{
 "cells": [
  {
   "cell_type": "code",
   "execution_count": 18,
   "metadata": {},
   "outputs": [
    {
     "ename": "AttributeError",
     "evalue": "'NoneType' object has no attribute 'cookies'",
     "output_type": "error",
     "traceback": [
      "\u001b[1;31m---------------------------------------------------------------------------\u001b[0m",
      "\u001b[1;31mAttributeError\u001b[0m                            Traceback (most recent call last)",
      "\u001b[1;32md:\\Desktop\\FILES\\DataMining\\DataSpider\\test.ipynb Cell 1\u001b[0m in \u001b[0;36m<cell line: 9>\u001b[1;34m()\u001b[0m\n\u001b[0;32m      <a href='vscode-notebook-cell:/d%3A/Desktop/FILES/DataMining/DataSpider/test.ipynb#W0sZmlsZQ%3D%3D?line=5'>6</a>\u001b[0m re \u001b[39m=\u001b[39m driver\u001b[39m.\u001b[39mget(\n\u001b[0;32m      <a href='vscode-notebook-cell:/d%3A/Desktop/FILES/DataMining/DataSpider/test.ipynb#W0sZmlsZQ%3D%3D?line=6'>7</a>\u001b[0m     \u001b[39m\"\u001b[39m\u001b[39mhttps://ndltd.ncl.edu.tw//cgi-bin/gs32/gsweb.cgi/login?o=dwebmge\u001b[39m\u001b[39m\"\u001b[39m)\n\u001b[0;32m      <a href='vscode-notebook-cell:/d%3A/Desktop/FILES/DataMining/DataSpider/test.ipynb#W0sZmlsZQ%3D%3D?line=7'>8</a>\u001b[0m advance \u001b[39m=\u001b[39m driver\u001b[39m.\u001b[39mfind_elements_by_link_text(\u001b[39m\"\u001b[39m\u001b[39m進階查詢\u001b[39m\u001b[39m\"\u001b[39m)\n\u001b[1;32m----> <a href='vscode-notebook-cell:/d%3A/Desktop/FILES/DataMining/DataSpider/test.ipynb#W0sZmlsZQ%3D%3D?line=8'>9</a>\u001b[0m \u001b[39mprint\u001b[39m(re\u001b[39m.\u001b[39;49mcookies)\n\u001b[0;32m     <a href='vscode-notebook-cell:/d%3A/Desktop/FILES/DataMining/DataSpider/test.ipynb#W0sZmlsZQ%3D%3D?line=9'>10</a>\u001b[0m advance\u001b[39m.\u001b[39mclick()\n\u001b[0;32m     <a href='vscode-notebook-cell:/d%3A/Desktop/FILES/DataMining/DataSpider/test.ipynb#W0sZmlsZQ%3D%3D?line=11'>12</a>\u001b[0m co \u001b[39m=\u001b[39m {\u001b[39m\"\u001b[39m\u001b[39mccd\u001b[39m\u001b[39m\"\u001b[39m : \u001b[39m\"\u001b[39m\u001b[39mmYOIDA\u001b[39m\u001b[39m\"\u001b[39m}\n",
      "\u001b[1;31mAttributeError\u001b[0m: 'NoneType' object has no attribute 'cookies'"
     ]
    }
   ],
   "source": [
    "from wsgiref import headers\n",
    "import requests\n",
    "from selenium import webdriver\n",
    "\n",
    "driver = webdriver.Edge(\"./edgedriver_win32/msedgedriver.exe\")\n",
    "re = driver.get(\n",
    "    \"https://ndltd.ncl.edu.tw//cgi-bin/gs32/gsweb.cgi/login?o=dwebmge\")\n",
    "advance = driver.find_elements_by_link_text(\"進階查詢\")\n",
    "print(re.cookies)\n",
    "advance.click()\n",
    "\n",
    "co = {\"ccd\" : \"mYOIDA\"}\n",
    "c = \"https://hdl.handle.net/11296/4t6578\"\n",
    "href = \"https://ndltd.ncl.edu.tw/cgi-bin/gs32/gsweb.cgi/ccd=RJuG.e/record?r1=3&h1=4\"\n",
    "href2 = \"https://ndltd.ncl.edu.tw/cgi-bin/gs32/gsweb.cgi/ccd=mYOIDA/result?h=1#result\"\n",
    "redirect = \"https://ndltd.ncl.edu.tw//cgi-bin/gs32/gsweb.cgi/login?o=dwebmge\"\n",
    "url = \"https://ndltd.ncl.edu.tw/cgi-bin/gs32/gsweb.cgi?o=dnclcdr&s=id=%22102FJU00513003%22.&searchmode=basic\"\n",
    "header = {\n",
    "    'User-Agent': 'Mozilla/5.0 (Windows NT 10.0; Win64; x64) AppleWebKit/537.36 (KHTML, like Gecko) Chrome/107.0.0.0 Safari/537.36 Edg/107.0.1418.35'}\n",
    "ss = requests.session()\n",
    "ss.cookies = requests.utils.cookiejar_from_dict(co)\n",
    "response = ss.get(href2)\n",
    "print(response.content.decode(\"utf-8\"))"
   ]
  },
  {
   "cell_type": "code",
   "execution_count": 7,
   "metadata": {},
   "outputs": [
    {
     "name": "stdout",
     "output_type": "stream",
     "text": [
      "正在爬取第0.0页\n",
      "正在爬取第1.0页\n",
      "正在爬取第2.0页\n",
      "正在爬取第3.0页\n",
      "正在爬取第4.0页\n",
      "正在爬取第5.0页\n",
      "正在爬取第6.0页\n",
      "正在爬取第7.0页\n",
      "正在爬取第8.0页\n",
      "正在爬取第9.0页\n",
      "正在爬取第10.0页\n",
      "正在爬取第11.0页\n",
      "正在爬取第12.0页\n",
      "正在爬取第13.0页\n",
      "正在爬取第14.0页\n",
      "正在爬取第15.0页\n",
      "正在爬取第16.0页\n",
      "正在爬取第17.0页\n",
      "正在爬取第18.0页\n",
      "正在爬取第19.0页\n",
      "正在爬取第20.0页\n",
      "正在爬取第21.0页\n",
      "正在爬取第22.0页\n",
      "正在爬取第23.0页\n",
      "正在爬取第24.0页\n",
      "正在爬取第25.0页\n",
      "正在爬取第26.0页\n",
      "正在爬取第27.0页\n",
      "正在爬取第28.0页\n",
      "正在爬取第29.0页\n",
      "正在爬取第30.0页\n",
      "正在爬取第31.0页\n",
      "正在爬取第32.0页\n",
      "正在爬取第33.0页\n",
      "正在爬取第34.0页\n",
      "正在爬取第35.0页\n",
      "正在爬取第36.0页\n",
      "正在爬取第37.0页\n",
      "正在爬取第38.0页\n",
      "正在爬取第39.0页\n",
      "正在爬取第40.0页\n",
      "正在爬取第41.0页\n",
      "正在爬取第42.0页\n",
      "正在爬取第43.0页\n",
      "正在爬取第44.0页\n",
      "正在爬取第45.0页\n",
      "正在爬取第46.0页\n",
      "正在爬取第47.0页\n",
      "正在爬取第48.0页\n",
      "正在爬取第49.0页\n"
     ]
    },
    {
     "ename": "KeyboardInterrupt",
     "evalue": "",
     "output_type": "error",
     "traceback": [
      "\u001b[1;31m---------------------------------------------------------------------------\u001b[0m",
      "\u001b[1;31mKeyboardInterrupt\u001b[0m                         Traceback (most recent call last)",
      "\u001b[1;32md:\\Desktop\\FILES\\DataMining\\DataSpider\\test.ipynb Cell 2\u001b[0m in \u001b[0;36m<cell line: 15>\u001b[1;34m()\u001b[0m\n\u001b[0;32m     <a href='vscode-notebook-cell:/d%3A/Desktop/FILES/DataMining/DataSpider/test.ipynb#W1sZmlsZQ%3D%3D?line=17'>18</a>\u001b[0m \u001b[39melse\u001b[39;00m:\n\u001b[0;32m     <a href='vscode-notebook-cell:/d%3A/Desktop/FILES/DataMining/DataSpider/test.ipynb#W1sZmlsZQ%3D%3D?line=18'>19</a>\u001b[0m     url \u001b[39m=\u001b[39m \u001b[39m\"\u001b[39m\u001b[39mhttp://search.ndltd.org/search.php?q=\u001b[39m\u001b[39m%E\u001b[39;00m\u001b[39m5\u001b[39m\u001b[39m%\u001b[39m\u001b[39m9C\u001b[39m\u001b[39m%\u001b[39m\u001b[39mB0\u001b[39m\u001b[39m%E\u001b[39;00m\u001b[39m7\u001b[39m\u001b[39m%90%\u001b[39;00m\u001b[39m86&source_set_names=National+Digital+Library+of+Theses+and+Dissertations+in+Taiwan&year_start=2000&year_end=2022&start=\u001b[39m\u001b[39m\"\u001b[39m \u001b[39m+\u001b[39m \u001b[39mstr\u001b[39m(i)\n\u001b[1;32m---> <a href='vscode-notebook-cell:/d%3A/Desktop/FILES/DataMining/DataSpider/test.ipynb#W1sZmlsZQ%3D%3D?line=20'>21</a>\u001b[0m searchPageResponse \u001b[39m=\u001b[39m etree\u001b[39m.\u001b[39mHTML((ss\u001b[39m.\u001b[39;49mget(url))\u001b[39m.\u001b[39mcontent)\n\u001b[0;32m     <a href='vscode-notebook-cell:/d%3A/Desktop/FILES/DataMining/DataSpider/test.ipynb#W1sZmlsZQ%3D%3D?line=21'>22</a>\u001b[0m \u001b[39mprint\u001b[39m(\u001b[39m\"\u001b[39m\u001b[39m正在爬取第\u001b[39m\u001b[39m\"\u001b[39m\u001b[39m+\u001b[39m \u001b[39mstr\u001b[39m(i\u001b[39m/\u001b[39m\u001b[39m10\u001b[39m)\u001b[39m+\u001b[39m \u001b[39m\"\u001b[39m\u001b[39m页\u001b[39m\u001b[39m\"\u001b[39m)\n\u001b[0;32m     <a href='vscode-notebook-cell:/d%3A/Desktop/FILES/DataMining/DataSpider/test.ipynb#W1sZmlsZQ%3D%3D?line=23'>24</a>\u001b[0m \u001b[39mfor\u001b[39;00m i \u001b[39min\u001b[39;00m \u001b[39mrange\u001b[39m(\u001b[39m1\u001b[39m, \u001b[39m11\u001b[39m):\n",
      "File \u001b[1;32md:\\Anaconda\\envs\\DataMining\\lib\\site-packages\\requests\\sessions.py:600\u001b[0m, in \u001b[0;36mSession.get\u001b[1;34m(self, url, **kwargs)\u001b[0m\n\u001b[0;32m    592\u001b[0m \u001b[39mr\u001b[39m\u001b[39m\"\"\"Sends a GET request. Returns :class:`Response` object.\u001b[39;00m\n\u001b[0;32m    593\u001b[0m \n\u001b[0;32m    594\u001b[0m \u001b[39m:param url: URL for the new :class:`Request` object.\u001b[39;00m\n\u001b[0;32m    595\u001b[0m \u001b[39m:param \\*\\*kwargs: Optional arguments that ``request`` takes.\u001b[39;00m\n\u001b[0;32m    596\u001b[0m \u001b[39m:rtype: requests.Response\u001b[39;00m\n\u001b[0;32m    597\u001b[0m \u001b[39m\"\"\"\u001b[39;00m\n\u001b[0;32m    599\u001b[0m kwargs\u001b[39m.\u001b[39msetdefault(\u001b[39m\"\u001b[39m\u001b[39mallow_redirects\u001b[39m\u001b[39m\"\u001b[39m, \u001b[39mTrue\u001b[39;00m)\n\u001b[1;32m--> 600\u001b[0m \u001b[39mreturn\u001b[39;00m \u001b[39mself\u001b[39m\u001b[39m.\u001b[39mrequest(\u001b[39m\"\u001b[39m\u001b[39mGET\u001b[39m\u001b[39m\"\u001b[39m, url, \u001b[39m*\u001b[39m\u001b[39m*\u001b[39mkwargs)\n",
      "File \u001b[1;32md:\\Anaconda\\envs\\DataMining\\lib\\site-packages\\requests\\sessions.py:587\u001b[0m, in \u001b[0;36mSession.request\u001b[1;34m(self, method, url, params, data, headers, cookies, files, auth, timeout, allow_redirects, proxies, hooks, stream, verify, cert, json)\u001b[0m\n\u001b[0;32m    582\u001b[0m send_kwargs \u001b[39m=\u001b[39m {\n\u001b[0;32m    583\u001b[0m     \u001b[39m\"\u001b[39m\u001b[39mtimeout\u001b[39m\u001b[39m\"\u001b[39m: timeout,\n\u001b[0;32m    584\u001b[0m     \u001b[39m\"\u001b[39m\u001b[39mallow_redirects\u001b[39m\u001b[39m\"\u001b[39m: allow_redirects,\n\u001b[0;32m    585\u001b[0m }\n\u001b[0;32m    586\u001b[0m send_kwargs\u001b[39m.\u001b[39mupdate(settings)\n\u001b[1;32m--> 587\u001b[0m resp \u001b[39m=\u001b[39m \u001b[39mself\u001b[39m\u001b[39m.\u001b[39msend(prep, \u001b[39m*\u001b[39m\u001b[39m*\u001b[39msend_kwargs)\n\u001b[0;32m    589\u001b[0m \u001b[39mreturn\u001b[39;00m resp\n",
      "File \u001b[1;32md:\\Anaconda\\envs\\DataMining\\lib\\site-packages\\requests\\sessions.py:701\u001b[0m, in \u001b[0;36mSession.send\u001b[1;34m(self, request, **kwargs)\u001b[0m\n\u001b[0;32m    698\u001b[0m start \u001b[39m=\u001b[39m preferred_clock()\n\u001b[0;32m    700\u001b[0m \u001b[39m# Send the request\u001b[39;00m\n\u001b[1;32m--> 701\u001b[0m r \u001b[39m=\u001b[39m adapter\u001b[39m.\u001b[39msend(request, \u001b[39m*\u001b[39m\u001b[39m*\u001b[39mkwargs)\n\u001b[0;32m    703\u001b[0m \u001b[39m# Total elapsed time of the request (approximately)\u001b[39;00m\n\u001b[0;32m    704\u001b[0m elapsed \u001b[39m=\u001b[39m preferred_clock() \u001b[39m-\u001b[39m start\n",
      "File \u001b[1;32md:\\Anaconda\\envs\\DataMining\\lib\\site-packages\\requests\\adapters.py:489\u001b[0m, in \u001b[0;36mHTTPAdapter.send\u001b[1;34m(self, request, stream, timeout, verify, cert, proxies)\u001b[0m\n\u001b[0;32m    487\u001b[0m \u001b[39mtry\u001b[39;00m:\n\u001b[0;32m    488\u001b[0m     \u001b[39mif\u001b[39;00m \u001b[39mnot\u001b[39;00m chunked:\n\u001b[1;32m--> 489\u001b[0m         resp \u001b[39m=\u001b[39m conn\u001b[39m.\u001b[39;49murlopen(\n\u001b[0;32m    490\u001b[0m             method\u001b[39m=\u001b[39;49mrequest\u001b[39m.\u001b[39;49mmethod,\n\u001b[0;32m    491\u001b[0m             url\u001b[39m=\u001b[39;49murl,\n\u001b[0;32m    492\u001b[0m             body\u001b[39m=\u001b[39;49mrequest\u001b[39m.\u001b[39;49mbody,\n\u001b[0;32m    493\u001b[0m             headers\u001b[39m=\u001b[39;49mrequest\u001b[39m.\u001b[39;49mheaders,\n\u001b[0;32m    494\u001b[0m             redirect\u001b[39m=\u001b[39;49m\u001b[39mFalse\u001b[39;49;00m,\n\u001b[0;32m    495\u001b[0m             assert_same_host\u001b[39m=\u001b[39;49m\u001b[39mFalse\u001b[39;49;00m,\n\u001b[0;32m    496\u001b[0m             preload_content\u001b[39m=\u001b[39;49m\u001b[39mFalse\u001b[39;49;00m,\n\u001b[0;32m    497\u001b[0m             decode_content\u001b[39m=\u001b[39;49m\u001b[39mFalse\u001b[39;49;00m,\n\u001b[0;32m    498\u001b[0m             retries\u001b[39m=\u001b[39;49m\u001b[39mself\u001b[39;49m\u001b[39m.\u001b[39;49mmax_retries,\n\u001b[0;32m    499\u001b[0m             timeout\u001b[39m=\u001b[39;49mtimeout,\n\u001b[0;32m    500\u001b[0m         )\n\u001b[0;32m    502\u001b[0m     \u001b[39m# Send the request.\u001b[39;00m\n\u001b[0;32m    503\u001b[0m     \u001b[39melse\u001b[39;00m:\n\u001b[0;32m    504\u001b[0m         \u001b[39mif\u001b[39;00m \u001b[39mhasattr\u001b[39m(conn, \u001b[39m\"\u001b[39m\u001b[39mproxy_pool\u001b[39m\u001b[39m\"\u001b[39m):\n",
      "File \u001b[1;32md:\\Anaconda\\envs\\DataMining\\lib\\site-packages\\urllib3\\connectionpool.py:703\u001b[0m, in \u001b[0;36mHTTPConnectionPool.urlopen\u001b[1;34m(self, method, url, body, headers, retries, redirect, assert_same_host, timeout, pool_timeout, release_conn, chunked, body_pos, **response_kw)\u001b[0m\n\u001b[0;32m    700\u001b[0m     \u001b[39mself\u001b[39m\u001b[39m.\u001b[39m_prepare_proxy(conn)\n\u001b[0;32m    702\u001b[0m \u001b[39m# Make the request on the httplib connection object.\u001b[39;00m\n\u001b[1;32m--> 703\u001b[0m httplib_response \u001b[39m=\u001b[39m \u001b[39mself\u001b[39;49m\u001b[39m.\u001b[39;49m_make_request(\n\u001b[0;32m    704\u001b[0m     conn,\n\u001b[0;32m    705\u001b[0m     method,\n\u001b[0;32m    706\u001b[0m     url,\n\u001b[0;32m    707\u001b[0m     timeout\u001b[39m=\u001b[39;49mtimeout_obj,\n\u001b[0;32m    708\u001b[0m     body\u001b[39m=\u001b[39;49mbody,\n\u001b[0;32m    709\u001b[0m     headers\u001b[39m=\u001b[39;49mheaders,\n\u001b[0;32m    710\u001b[0m     chunked\u001b[39m=\u001b[39;49mchunked,\n\u001b[0;32m    711\u001b[0m )\n\u001b[0;32m    713\u001b[0m \u001b[39m# If we're going to release the connection in ``finally:``, then\u001b[39;00m\n\u001b[0;32m    714\u001b[0m \u001b[39m# the response doesn't need to know about the connection. Otherwise\u001b[39;00m\n\u001b[0;32m    715\u001b[0m \u001b[39m# it will also try to release it and we'll have a double-release\u001b[39;00m\n\u001b[0;32m    716\u001b[0m \u001b[39m# mess.\u001b[39;00m\n\u001b[0;32m    717\u001b[0m response_conn \u001b[39m=\u001b[39m conn \u001b[39mif\u001b[39;00m \u001b[39mnot\u001b[39;00m release_conn \u001b[39melse\u001b[39;00m \u001b[39mNone\u001b[39;00m\n",
      "File \u001b[1;32md:\\Anaconda\\envs\\DataMining\\lib\\site-packages\\urllib3\\connectionpool.py:449\u001b[0m, in \u001b[0;36mHTTPConnectionPool._make_request\u001b[1;34m(self, conn, method, url, timeout, chunked, **httplib_request_kw)\u001b[0m\n\u001b[0;32m    444\u001b[0m             httplib_response \u001b[39m=\u001b[39m conn\u001b[39m.\u001b[39mgetresponse()\n\u001b[0;32m    445\u001b[0m         \u001b[39mexcept\u001b[39;00m \u001b[39mBaseException\u001b[39;00m \u001b[39mas\u001b[39;00m e:\n\u001b[0;32m    446\u001b[0m             \u001b[39m# Remove the TypeError from the exception chain in\u001b[39;00m\n\u001b[0;32m    447\u001b[0m             \u001b[39m# Python 3 (including for exceptions like SystemExit).\u001b[39;00m\n\u001b[0;32m    448\u001b[0m             \u001b[39m# Otherwise it looks like a bug in the code.\u001b[39;00m\n\u001b[1;32m--> 449\u001b[0m             six\u001b[39m.\u001b[39;49mraise_from(e, \u001b[39mNone\u001b[39;49;00m)\n\u001b[0;32m    450\u001b[0m \u001b[39mexcept\u001b[39;00m (SocketTimeout, BaseSSLError, SocketError) \u001b[39mas\u001b[39;00m e:\n\u001b[0;32m    451\u001b[0m     \u001b[39mself\u001b[39m\u001b[39m.\u001b[39m_raise_timeout(err\u001b[39m=\u001b[39me, url\u001b[39m=\u001b[39murl, timeout_value\u001b[39m=\u001b[39mread_timeout)\n",
      "File \u001b[1;32m<string>:3\u001b[0m, in \u001b[0;36mraise_from\u001b[1;34m(value, from_value)\u001b[0m\n",
      "File \u001b[1;32md:\\Anaconda\\envs\\DataMining\\lib\\site-packages\\urllib3\\connectionpool.py:444\u001b[0m, in \u001b[0;36mHTTPConnectionPool._make_request\u001b[1;34m(self, conn, method, url, timeout, chunked, **httplib_request_kw)\u001b[0m\n\u001b[0;32m    441\u001b[0m \u001b[39mexcept\u001b[39;00m \u001b[39mTypeError\u001b[39;00m:\n\u001b[0;32m    442\u001b[0m     \u001b[39m# Python 3\u001b[39;00m\n\u001b[0;32m    443\u001b[0m     \u001b[39mtry\u001b[39;00m:\n\u001b[1;32m--> 444\u001b[0m         httplib_response \u001b[39m=\u001b[39m conn\u001b[39m.\u001b[39;49mgetresponse()\n\u001b[0;32m    445\u001b[0m     \u001b[39mexcept\u001b[39;00m \u001b[39mBaseException\u001b[39;00m \u001b[39mas\u001b[39;00m e:\n\u001b[0;32m    446\u001b[0m         \u001b[39m# Remove the TypeError from the exception chain in\u001b[39;00m\n\u001b[0;32m    447\u001b[0m         \u001b[39m# Python 3 (including for exceptions like SystemExit).\u001b[39;00m\n\u001b[0;32m    448\u001b[0m         \u001b[39m# Otherwise it looks like a bug in the code.\u001b[39;00m\n\u001b[0;32m    449\u001b[0m         six\u001b[39m.\u001b[39mraise_from(e, \u001b[39mNone\u001b[39;00m)\n",
      "File \u001b[1;32md:\\Anaconda\\envs\\DataMining\\lib\\http\\client.py:1377\u001b[0m, in \u001b[0;36mHTTPConnection.getresponse\u001b[1;34m(self)\u001b[0m\n\u001b[0;32m   1375\u001b[0m \u001b[39mtry\u001b[39;00m:\n\u001b[0;32m   1376\u001b[0m     \u001b[39mtry\u001b[39;00m:\n\u001b[1;32m-> 1377\u001b[0m         response\u001b[39m.\u001b[39;49mbegin()\n\u001b[0;32m   1378\u001b[0m     \u001b[39mexcept\u001b[39;00m \u001b[39mConnectionError\u001b[39;00m:\n\u001b[0;32m   1379\u001b[0m         \u001b[39mself\u001b[39m\u001b[39m.\u001b[39mclose()\n",
      "File \u001b[1;32md:\\Anaconda\\envs\\DataMining\\lib\\http\\client.py:320\u001b[0m, in \u001b[0;36mHTTPResponse.begin\u001b[1;34m(self)\u001b[0m\n\u001b[0;32m    318\u001b[0m \u001b[39m# read until we get a non-100 response\u001b[39;00m\n\u001b[0;32m    319\u001b[0m \u001b[39mwhile\u001b[39;00m \u001b[39mTrue\u001b[39;00m:\n\u001b[1;32m--> 320\u001b[0m     version, status, reason \u001b[39m=\u001b[39m \u001b[39mself\u001b[39;49m\u001b[39m.\u001b[39;49m_read_status()\n\u001b[0;32m    321\u001b[0m     \u001b[39mif\u001b[39;00m status \u001b[39m!=\u001b[39m CONTINUE:\n\u001b[0;32m    322\u001b[0m         \u001b[39mbreak\u001b[39;00m\n",
      "File \u001b[1;32md:\\Anaconda\\envs\\DataMining\\lib\\http\\client.py:281\u001b[0m, in \u001b[0;36mHTTPResponse._read_status\u001b[1;34m(self)\u001b[0m\n\u001b[0;32m    280\u001b[0m \u001b[39mdef\u001b[39;00m \u001b[39m_read_status\u001b[39m(\u001b[39mself\u001b[39m):\n\u001b[1;32m--> 281\u001b[0m     line \u001b[39m=\u001b[39m \u001b[39mstr\u001b[39m(\u001b[39mself\u001b[39;49m\u001b[39m.\u001b[39;49mfp\u001b[39m.\u001b[39;49mreadline(_MAXLINE \u001b[39m+\u001b[39;49m \u001b[39m1\u001b[39;49m), \u001b[39m\"\u001b[39m\u001b[39miso-8859-1\u001b[39m\u001b[39m\"\u001b[39m)\n\u001b[0;32m    282\u001b[0m     \u001b[39mif\u001b[39;00m \u001b[39mlen\u001b[39m(line) \u001b[39m>\u001b[39m _MAXLINE:\n\u001b[0;32m    283\u001b[0m         \u001b[39mraise\u001b[39;00m LineTooLong(\u001b[39m\"\u001b[39m\u001b[39mstatus line\u001b[39m\u001b[39m\"\u001b[39m)\n",
      "File \u001b[1;32md:\\Anaconda\\envs\\DataMining\\lib\\socket.py:704\u001b[0m, in \u001b[0;36mSocketIO.readinto\u001b[1;34m(self, b)\u001b[0m\n\u001b[0;32m    702\u001b[0m \u001b[39mwhile\u001b[39;00m \u001b[39mTrue\u001b[39;00m:\n\u001b[0;32m    703\u001b[0m     \u001b[39mtry\u001b[39;00m:\n\u001b[1;32m--> 704\u001b[0m         \u001b[39mreturn\u001b[39;00m \u001b[39mself\u001b[39;49m\u001b[39m.\u001b[39;49m_sock\u001b[39m.\u001b[39;49mrecv_into(b)\n\u001b[0;32m    705\u001b[0m     \u001b[39mexcept\u001b[39;00m timeout:\n\u001b[0;32m    706\u001b[0m         \u001b[39mself\u001b[39m\u001b[39m.\u001b[39m_timeout_occurred \u001b[39m=\u001b[39m \u001b[39mTrue\u001b[39;00m\n",
      "\u001b[1;31mKeyboardInterrupt\u001b[0m: "
     ]
    }
   ],
   "source": [
    "from nntplib import ArticleInfo\n",
    "import requests\n",
    "from lxml import etree\n",
    "\n",
    "ss = requests.session()\n",
    "front = \"http://search.ndltd.org/\"\n",
    "item1Xpath = \"/html/body/div[2]/div[1]/div[2]/table/tbody/tr[1]/td[2]/h4/a\"\n",
    "item2Xpath = \"/html/body/div[2]/div[1]/div[2]/table/tbody/tr[2]/td[2]/h4/a\"\n",
    "firstPageUrl = \"http://search.ndltd.org/search.php?q=%E5%9C%B0%E7%90%86&source_set_names=National+Digital+Library+of+Theses+and+Dissertations+in+Taiwan&year_start=2000&year_end=2022\"\n",
    "secondPageUrl = \"http://search.ndltd.org/search.php?q=%E5%9C%B0%E7%90%86&source_set_names=National+Digital+Library+of+Theses+and+Dissertations+in+Taiwan&year_start=2000&year_end=2022&start=10\"\n",
    "linkXPath = \"/html/body/div[2]/div/div[3]/ol/li/a\"\n",
    "\n",
    "urls = []\n",
    "\n",
    "for i in range(0, 1201, 10):\n",
    "    if(i < 10):\n",
    "        url = \"http://search.ndltd.org/search.php?q=%E5%9C%B0%E7%90%86&source_set_names=National+Digital+Library+of+Theses+and+Dissertations+in+Taiwan&year_start=2000&year_end=2022\"\n",
    "    else:\n",
    "        url = \"http://search.ndltd.org/search.php?q=%E5%9C%B0%E7%90%86&source_set_names=National+Digital+Library+of+Theses+and+Dissertations+in+Taiwan&year_start=2000&year_end=2022&start=\" + str(i)\n",
    "\n",
    "    searchPageResponse = etree.HTML((ss.get(url)).content)\n",
    "    print(\"正在爬取第\"+ str(i/10)+ \"页\")\n",
    "\n",
    "    for i in range(1, 11):\n",
    "        detailUrl = searchPageResponse.xpath(\n",
    "            \"/html/body/div[2]/div[1]/div[2]/table/tbody/tr[\"+ str(i) +\"]/td[2]/h4/a\")[0].xpath('@href')[0]\n",
    "        detailPageResponse = etree.HTML(ss.get(\"http://search.ndltd.org/\"+detailUrl).content)\n",
    "        urls.append(detailPageResponse.xpath(\"/html/body/div[2]/div/div[3]/ol/li/a\")[0].xpath('@href')[0])\n",
    "\n",
    "for url1 in urls:\n",
    "    print(url1)"
   ]
  },
  {
   "cell_type": "markdown",
   "metadata": {},
   "source": []
  }
 ],
 "metadata": {
  "kernelspec": {
   "display_name": "Python 3.9.13 ('DataMining')",
   "language": "python",
   "name": "python3"
  },
  "language_info": {
   "codemirror_mode": {
    "name": "ipython",
    "version": 3
   },
   "file_extension": ".py",
   "mimetype": "text/x-python",
   "name": "python",
   "nbconvert_exporter": "python",
   "pygments_lexer": "ipython3",
   "version": "3.9.13"
  },
  "orig_nbformat": 4,
  "vscode": {
   "interpreter": {
    "hash": "b026274d96e1f167ec35c9b136ca5205491932b788e7293fa061f8ae49a043d8"
   }
  }
 },
 "nbformat": 4,
 "nbformat_minor": 2
}
